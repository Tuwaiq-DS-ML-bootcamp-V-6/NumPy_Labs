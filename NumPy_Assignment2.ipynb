{
 "cells": [
  {
   "cell_type": "markdown",
   "id": "5ffb93ae",
   "metadata": {},
   "source": [
    "# Q1: Import numpy library"
   ]
  },
  {
   "cell_type": "code",
   "execution_count": 1,
   "id": "936d4703",
   "metadata": {},
   "outputs": [],
   "source": [
    "import numpy as np"
   ]
  },
  {
   "cell_type": "markdown",
   "id": "b6991a89",
   "metadata": {},
   "source": [
    "# Q2: Generate a sequence of 15 floats using linspace() function"
   ]
  },
  {
   "cell_type": "code",
   "execution_count": 2,
   "id": "43bf04a5",
   "metadata": {},
   "outputs": [],
   "source": [
    "sequence_15 = np.linspace(start=-5.0, stop=5.0, num=15)\n",
    "\n",
    "print(sequence_15)"
   ]
  },
  {
   "cell_type": "markdown",
   "id": "7144bba8",
   "metadata": {},
   "source": [
    "# Q3: Create a 3-D array in shape (2, 2, 3) containing the four arrays given below \n",
    "Note : the array's name is up to you.\n",
    "\n",
    "|      |       |          |         |\n",
    "|------| ----- | -------- | ------- |\n",
    "|arr1 | 1.1    | 2.1       | 3.1        |\n",
    "|arr2 | 4.1    | 5.1       | 6.1        |\n",
    "|arr3 | 7.1    | 8.1       | 9.1        |\n",
    "|arr4 | 10.1   | 11.1      | 12.1       |"
   ]
  },
  {
   "cell_type": "code",
   "execution_count": 3,
   "id": "c1c3f9dc",
   "metadata": {},
   "outputs": [],
   "source": [
    "arr1 = np.array([1.1, 2.1, 3.1])\n",
    "arr2 = np.array([4.1, 5.1, 6.1])\n",
    "arr3 = np.array([7.1, 8.1, 9.1])\n",
    "arr4 = np.array([10.1, 11.1, 12.1])\n",
    "\n",
    "dim_3 = np.array([\n",
    "    [arr1, arr2],\n",
    "    [arr3, arr4]\n",
    "])\n",
    "\n",
    "print(dim_3)"
   ]
  },
  {
   "cell_type": "markdown",
   "id": "807acbf6",
   "metadata": {},
   "source": [
    "# Q4: Print the following:\n",
    "Note: use the same array from Q3.\n",
    "- Array's type.\n",
    "- Array's elements datatype.\n",
    "- Array's shape.\n",
    "- Array's size.\n",
    "- Array's dimention."
   ]
  },
  {
   "cell_type": "code",
   "execution_count": 4,
   "id": "6e90d6a0",
   "metadata": {},
   "outputs": [],
   "source": [
    "print(type(dim_3))\n",
    "print(dim_3.dtype)\n",
    "print(dim_3.shape)\n",
    "print(dim_3.size)\n",
    "print(dim_3.ndim)"
   ]
  },
  {
   "cell_type": "markdown",
   "id": "db4958b5",
   "metadata": {},
   "source": [
    "# Q5:  Change the array dimention from 3-D to 4-D\n",
    "Note: use the same array from Q3.\n",
    "- Create a new array to hold the changes. \n",
    "- Print the new array's dimention and shape."
   ]
  },
  {
   "cell_type": "code",
   "execution_count": 5,
   "id": "e9f5c88c",
   "metadata": {},
   "outputs": [],
   "source": [
    "dim_4 = dim_3.reshape((1, 2, 2, 3))\n",
    "\n",
    "print(dim_4.ndim)\n",
    "print(dim_4.shape)"
   ]
  },
  {
   "cell_type": "markdown",
   "id": "454f2504",
   "metadata": {},
   "source": [
    "# Q6: Change the array's elements datatype to integer  \n",
    "Note: use the same array from Q5.\n",
    "\n",
    "- Create a new array to hold the changes. \n",
    "- Print the new array."
   ]
  },
  {
   "cell_type": "code",
   "execution_count": 6,
   "id": "8135b045",
   "metadata": {},
   "outputs": [],
   "source": [
    "int_arr = dim_4.astype(int)\n",
    "\n",
    "print(int_arr)"
   ]
  },
  {
   "cell_type": "markdown",
   "id": "ab90badc",
   "metadata": {},
   "source": [
    "# Q7: Print all array's elements using for loop\n",
    "Note: use the same array from Q6.\n",
    "\n",
    "Hint: use nditer()"
   ]
  },
  {
   "cell_type": "code",
   "execution_count": 7,
   "id": "a0d58d15",
   "metadata": {},
   "outputs": [],
   "source": [
    "for n in np.nditer(int_arr):\n",
    "    print(n)"
   ]
  },
  {
   "cell_type": "markdown",
   "id": "afa8b5f3",
   "metadata": {},
   "source": [
    "# Q8:  Print number 8 using array slicing\n",
    "Note: use the same array from Q6."
   ]
  },
  {
   "cell_type": "code",
   "execution_count": 8,
   "id": "6e12e2d7",
   "metadata": {},
   "outputs": [],
   "source": [
    "ind_8 = np.where(dim_4 == 8)\n",
    "print(ind_8)\n",
    "num_8 = dim_4[ind_8]\n",
    "print(num_8)\n",
    "\n",
    "#####\n",
    "print(int_arr[0,1,0,1])"
   ]
  },
  {
   "cell_type": "markdown",
   "id": "e2e71895",
   "metadata": {},
   "source": [
    "# Q9: Print number 5 and number 6 using array slicing\n",
    "Note: use the same array from Q6."
   ]
  },
  {
   "cell_type": "code",
   "execution_count": 9,
   "id": "c3218bcb",
   "metadata": {},
   "outputs": [],
   "source": [
    "ind_5 = np.where(int_arr == 5)\n",
    "print(ind_5)\n",
    "num_5 = int_arr[ind_5]\n",
    "print(num_5)\n",
    "\n",
    "ind_6 = np.where(int_arr == 6)\n",
    "print(ind_6)\n",
    "num_6 = int_arr[ind_6]\n",
    "print(num_6)\n",
    "\n",
    "####\n",
    "print(int_arr[0, 0, 1, 1])\n",
    "print(int_arr[0, 0, 1, 2])"
   ]
  },
  {
   "cell_type": "markdown",
   "id": "e5d63cd3",
   "metadata": {},
   "source": [
    "# Q10: Search for number 8 using where()\n",
    "Note: use the same array from Q6.\n",
    "\n",
    "Note: where() is only used with small data.\n",
    "\n",
    "*the output represents the path of the index that leads to number 8*"
   ]
  },
  {
   "cell_type": "code",
   "execution_count": 10,
   "id": "ddaf0146",
   "metadata": {},
   "outputs": [],
   "source": [
    "ind_8 = np.where(int_arr == 8)\n",
    "\n",
    "for index in zip(*ind_8):\n",
    "    print(index)"
   ]
  },
  {
   "cell_type": "markdown",
   "id": "c89f41ad",
   "metadata": {},
   "source": [
    "# Q11: Reshape the array as the following\n",
    "\n",
    "    array([[[ 1, 2],\n",
    "            [ 3,  4],\n",
    "            [ 5,  6]],\n",
    "\n",
    "           [[ 7,  8],\n",
    "            [ 9, 10],\n",
    "            [11, 12]]])\n",
    "            \n",
    " Note: use the same array from Q6."
   ]
  },
  {
   "cell_type": "code",
   "execution_count": 11,
   "id": "d9b632bd",
   "metadata": {},
   "outputs": [],
   "source": [
    "reshape = int_arr.reshape((2, 3, 2))\n",
    "\n",
    "print(reshape)"
   ]
  },
  {
   "cell_type": "markdown",
   "id": "539c16b1",
   "metadata": {},
   "source": [
    "# Q12: Join the given arrays below \n",
    "    arr1 = np.array([['A', 'B'], ['E', 'F']])\n",
    "    arr2 = np.array([['C', 'D'], ['G', 'H']])\n",
    "## Q12.1: Join the arrays without specifying the axis "
   ]
  },
  {
   "cell_type": "code",
   "execution_count": 12,
   "id": "d6acdeaf",
   "metadata": {},
   "outputs": [],
   "source": [
    "arr1 = np.array([['A', 'B'], ['E', 'F']])\n",
    "arr2 = np.array([['C', 'D'], ['G', 'H']])\n",
    "\n",
    "joined = np.vstack((arr1, arr2))\n",
    "#joined = np.concatenate((arr1, arr2))\n",
    "\n",
    "print(joined)"
   ]
  },
  {
   "cell_type": "markdown",
   "id": "1a37dd47",
   "metadata": {},
   "source": [
    "# Q12.2: Join the arrays along rows with axis = 1 "
   ]
  },
  {
   "cell_type": "code",
   "execution_count": 15,
   "id": "b849658c",
   "metadata": {},
   "outputs": [],
   "source": [
    "joined = np.concatenate((arr1, arr2), axis=1)\n",
    "\n",
    "print(joined)"
   ]
  },
  {
   "cell_type": "markdown",
   "id": "7296eecf",
   "metadata": {},
   "source": [
    "# Q13: Split the array into two arrays with axis = 1, each array should contain four arrays. \n",
    "Note: use the same array from Q12.1"
   ]
  },
  {
   "cell_type": "code",
   "execution_count": 14,
   "id": "7f7f5e49",
   "metadata": {},
   "outputs": [],
   "source": [
    "array = np.array([['A', 'B', 'C', 'D'],\n",
    "                 ['E', 'F', 'G', 'H']])\n",
    "split_arr = np.hsplit(array, 2)\n",
    "\n",
    "print(\"First\")\n",
    "print(split_arr[0])\n",
    "print(\"Second\")\n",
    "print(split_arr[1])"
   ]
  }
 ],
 "metadata": {
  "kernelspec": {
   "display_name": "Python 3 (ipykernel)",
   "language": "python",
   "name": "python3"
  },
  "language_info": {
   "codemirror_mode": {
    "name": "ipython",
    "version": 3
   },
   "file_extension": ".py",
   "mimetype": "text/x-python",
   "name": "python",
   "nbconvert_exporter": "python",
   "pygments_lexer": "ipython3",
   "version": "3.9.12"
  }
 },
 "nbformat": 4,
 "nbformat_minor": 5
}
