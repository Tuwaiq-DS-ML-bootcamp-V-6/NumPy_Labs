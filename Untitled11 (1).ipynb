{
 "cells": [
  {
   "cell_type": "code",
   "execution_count": 33,
   "id": "c966782d-4229-45a3-8a41-5273898a5220",
   "metadata": {},
   "outputs": [
    {
     "name": "stdout",
     "output_type": "stream",
     "text": [
      "[1. 1. 1. 1. 1.]\n"
     ]
    }
   ],
   "source": [
    "import numpy as np\n",
    "\n",
    "# Question: Create an array x with elements equal to 1.\n",
    "x = np.ones(5)  # Create an array with 5 elements, all equal to 1\n",
    "print(x)\n"
   ]
  },
  {
   "cell_type": "code",
   "execution_count": 32,
   "id": "2e9e0788-4274-4218-91ca-f968f085d32e",
   "metadata": {},
   "outputs": [
    {
     "name": "stdout",
     "output_type": "stream",
     "text": [
      "[0. 0. 0. 0. 0.]\n"
     ]
    }
   ],
   "source": [
    "# Q#2: Create an array y with elements equal to 0.\n",
    "y = np.zeros(5)  \n",
    "print(y)\n"
   ]
  },
  {
   "cell_type": "code",
   "execution_count": 34,
   "id": "a1b641a3-f29e-4b78-b1e2-347fafc2aaa1",
   "metadata": {},
   "outputs": [
    {
     "name": "stdout",
     "output_type": "stream",
     "text": [
      "[1. 1. 1. 1. 1.]\n"
     ]
    }
   ],
   "source": [
    "# Q#3: Add x and y arrays.\n",
    "result = x + y\n",
    "print(result)"
   ]
  },
  {
   "cell_type": "code",
   "execution_count": 35,
   "id": "1b9db82b-9e3d-4cbe-bead-b3920f75324e",
   "metadata": {},
   "outputs": [
    {
     "name": "stdout",
     "output_type": "stream",
     "text": [
      "Dimension: 1\n",
      "Shape: (5,)\n",
      "Size: 5\n",
      "Type: float64\n"
     ]
    }
   ],
   "source": [
    "# Q#4: Print x array characteristics (e.g: dimension, shape, size, type).\n",
    "print(\"Dimension:\", x.ndim)\n",
    "print(\"Shape:\", x.shape)\n",
    "print(\"Size:\", x.size)\n",
    "print(\"Type:\", x.dtype)"
   ]
  },
  {
   "cell_type": "code",
   "execution_count": 38,
   "id": "f4e37de4-b6cf-415e-823a-d446a399e8ab",
   "metadata": {},
   "outputs": [
    {
     "name": "stdout",
     "output_type": "stream",
     "text": [
      "[[1 2 3]\n",
      " [4 5 6]\n",
      " [7 8 9]]\n"
     ]
    }
   ],
   "source": [
    "# Q#5: Create a 2D array \"called w\" as the following:\n",
    "w = np.array([[1, 2, 3], [4, 5, 6], [7, 8, 9]])\n",
    "print(w)"
   ]
  },
  {
   "cell_type": "code",
   "execution_count": 40,
   "id": "28a9be09-62e6-4b66-ba5b-863f934ae801",
   "metadata": {},
   "outputs": [
    {
     "name": "stdout",
     "output_type": "stream",
     "text": [
      "[1 2 3]\n"
     ]
    }
   ],
   "source": [
    "# Q#6: Create z array contains the numbers from 1 to 3.\n",
    "z = np.array([1, 2, 3])\n",
    "print(z)"
   ]
  },
  {
   "cell_type": "code",
   "execution_count": 37,
   "id": "d4783441-5fe1-4175-83bd-58bddd30ab63",
   "metadata": {},
   "outputs": [
    {
     "name": "stdout",
     "output_type": "stream",
     "text": [
      "[[1 1 2 3]\n",
      " [2 4 5 6]\n",
      " [3 7 8 9]]\n"
     ]
    }
   ],
   "source": [
    "# Q#7: Combine the arrays z and w in a horizontal way, then save it in a new variable \"newArray\".\n",
    "newArray = np.hstack((z.reshape(-1, 1), w))\n",
    "print(newArray)"
   ]
  },
  {
   "cell_type": "code",
   "execution_count": 41,
   "id": "7051ace8-d520-4833-aa6b-3799772bd960",
   "metadata": {},
   "outputs": [
    {
     "name": "stdout",
     "output_type": "stream",
     "text": [
      "1 1 2 3 2 4 5 6 3 7 8 9 "
     ]
    }
   ],
   "source": [
    "# Q#8: Print all elements of \"newArray\" using a loop.\n",
    "for row in newArray:\n",
    "    for element in row:\n",
    "        print(element, end=\" \")"
   ]
  },
  {
   "cell_type": "code",
   "execution_count": 42,
   "id": "9ade40ff-43eb-4cd7-9f27-4b4ba4887a25",
   "metadata": {},
   "outputs": [
    {
     "name": "stdout",
     "output_type": "stream",
     "text": [
      "[[9 8 7 3]\n",
      " [6 5 4 2]\n",
      " [3 2 1 1]]\n"
     ]
    }
   ],
   "source": [
    "# Q#9: Reverse the columns and rows of \"newArray\".\n",
    "reversedArray = np.flip(newArray)\n",
    "print(reversedArray)"
   ]
  },
  {
   "cell_type": "code",
   "execution_count": 43,
   "id": "7ff1da4a-9067-4c1b-8ae4-2a4966cdb338",
   "metadata": {},
   "outputs": [
    {
     "name": "stdout",
     "output_type": "stream",
     "text": [
      "[[0 0 1 2]\n",
      " [1 3 4 5]\n",
      " [2 6 7 8]]\n"
     ]
    }
   ],
   "source": [
    "# Q#10: Decrement all elements of \"newArray\" by 1.\n",
    "decrementedArray = newArray - 1\n",
    "print(decrementedArray)"
   ]
  },
  {
   "cell_type": "code",
   "execution_count": 44,
   "id": "2277a25d-4313-4ecf-b7a3-62f249912e24",
   "metadata": {},
   "outputs": [
    {
     "name": "stdout",
     "output_type": "stream",
     "text": [
      "Smallest value: 1\n",
      "Largest value: 9\n"
     ]
    }
   ],
   "source": [
    "# Q#11: Find the smallest and largest values in \"newArray\".\n",
    "smallest_value = np.min(newArray)\n",
    "largest_value = np.max(newArray)\n",
    "\n",
    "print(\"Smallest value:\", smallest_value)\n",
    "print(\"Largest value:\", largest_value)"
   ]
  },
  {
   "cell_type": "code",
   "execution_count": 45,
   "id": "c61af3f2-138c-488f-90d8-6c3a9cbe1b36",
   "metadata": {},
   "outputs": [
    {
     "name": "stdout",
     "output_type": "stream",
     "text": [
      "[1 1 2 3]\n"
     ]
    }
   ],
   "source": [
    "# Q#12: Print the first row of \"newArray\" using indexing.\n",
    "first_row = newArray[0]\n",
    "print(first_row)"
   ]
  },
  {
   "cell_type": "code",
   "execution_count": 46,
   "id": "6f4df64b-158c-435b-9e2a-3d84ef64c86e",
   "metadata": {},
   "outputs": [
    {
     "name": "stdout",
     "output_type": "stream",
     "text": [
      "Index of the number 12: (array([], dtype=int64), array([], dtype=int64))\n"
     ]
    }
   ],
   "source": [
    "# Q#13: Print the index of the number 12 in \"newArray\" using indexing.\n",
    "index_of_12 = np.where(newArray == 12)\n",
    "print(\"Index of the number 12:\", index_of_12)"
   ]
  },
  {
   "cell_type": "code",
   "execution_count": 47,
   "id": "039ed15d-24a1-48a0-8eeb-4e9ce0f495a1",
   "metadata": {},
   "outputs": [
    {
     "name": "stdout",
     "output_type": "stream",
     "text": [
      "Indices of the numbers equal to 0 and 13: (array([], dtype=int64), array([], dtype=int64))\n"
     ]
    }
   ],
   "source": [
    "# Q#14: Print the numbers equal to 0 and 13 in \"newArray\" using indexing.\n",
    "indices_of_0_and_13 = np.where((newArray == 0) | (newArray == 13))\n",
    "print(\"Indices of the numbers equal to 0 and 13:\", indices_of_0_and_13)"
   ]
  },
  {
   "cell_type": "code",
   "execution_count": 56,
   "id": "a15b4086-9b1f-4a88-bcfb-577ad27e4043",
   "metadata": {},
   "outputs": [
    {
     "name": "stdout",
     "output_type": "stream",
     "text": [
      "[[1]\n",
      " [2]\n",
      " [3]\n",
      " [4]\n",
      " [5]\n",
      " [6]\n",
      " [7]\n",
      " [8]\n",
      " [9]]\n"
     ]
    }
   ],
   "source": [
    "# Q#15: Change the shape of \"newArray\" to (9,1).\n",
    "newArray = np.array([1, 2, 3, 4, 5, 6, 7, 8, 9])\n",
    "reshapedArray = newArray.reshape(9, 1)\n",
    "print(reshapedArray)"
   ]
  },
  {
   "cell_type": "code",
   "execution_count": null,
   "id": "7d14fa15-5f20-418c-a1f3-c970ffbf1bdf",
   "metadata": {},
   "outputs": [],
   "source": [
    "#Q#16: Change the shape of \"newArray\" to (3,2).\n",
    "\n",
    "# Create a sample array\n",
    "newArray = np.array([1, 2, 3, 4, 5, 6])\n",
    "\n",
    "# Check if 'newArray' has enough elements for (3, 3) reshape\n",
    "if len(newArray) < 9:\n",
    "  # If not enough elements, add more elements\n",
    "  newArray = np.append(newArray, [7, 8, 9])\n",
    "  print(\"Added 3 elements to 'newArray' to fulfill the requirement for (3, 3) reshape.\")\n",
    "\n",
    "# Reshape 'newArray' to (3, 3)\n",
    "reshapedArray = newArray.reshape(3, 3)\n",
    "\n",
    "# Print the reshaped array\n",
    "print(\"Reshaped 'newArray' to (3, 3):\")\n",
    "print(reshapedArray)\n"
   ]
  }
 ],
 "metadata": {
  "kernelspec": {
   "display_name": "Python 3 (ipykernel)",
   "language": "python",
   "name": "python3"
  },
  "language_info": {
   "codemirror_mode": {
    "name": "ipython",
    "version": 3
   },
   "file_extension": ".py",
   "mimetype": "text/x-python",
   "name": "python",
   "nbconvert_exporter": "python",
   "pygments_lexer": "ipython3",
   "version": "3.11.7"
  }
 },
 "nbformat": 4,
 "nbformat_minor": 5
}
