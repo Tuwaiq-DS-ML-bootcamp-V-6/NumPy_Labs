{
 "cells": [
  {
   "cell_type": "code",
   "execution_count": null,
   "id": "16dafbce-a8ec-4ff9-8c54-10a4ebb30dae",
   "metadata": {},
   "outputs": [],
   "source": [
    "#Q1: Import numpy library\n",
    "import numpy as np\n"
   ]
  },
  {
   "cell_type": "code",
   "execution_count": 1,
   "id": "6a85db0f-f044-468e-8146-6b8a2e6913c4",
   "metadata": {},
   "outputs": [
    {
     "name": "stdout",
     "output_type": "stream",
     "text": [
      "[0.         0.07142857 0.14285714 0.21428571 0.28571429 0.35714286\n",
      " 0.42857143 0.5        0.57142857 0.64285714 0.71428571 0.78571429\n",
      " 0.85714286 0.92857143 1.        ]\n"
     ]
    }
   ],
   "source": [
    "#Q2: Generate a sequence of 15 floats using linspace() function\n",
    "import numpy as np\n",
    "sequence = np.linspace(0.0, 1.0, 15)\n",
    "print(sequence)"
   ]
  },
  {
   "cell_type": "code",
   "execution_count": 2,
   "id": "6d24a5af-9146-4357-a6d7-48ceb7095177",
   "metadata": {},
   "outputs": [
    {
     "name": "stdout",
     "output_type": "stream",
     "text": [
      "[[ 1.1  2.1  3.1]\n",
      " [ 4.1  5.1  6.1]\n",
      " [ 7.1  8.1  9.1]\n",
      " [10.1 11.1 12.1]]\n"
     ]
    }
   ],
   "source": [
    "#Q3: Create a 3-D array in shape (2, 2, 3) containing the four arrays given below\n",
    "import numpy as np\n",
    "arr1 = np.array([1.1, 2.1, 3.1])\n",
    "arr2 = np.array([4.1, 5.1, 6.1])\n",
    "arr3 = np.array([7.1, 8.1, 9.1])\n",
    "arr4 = np.array([10.1, 11.1, 12.1])\n",
    "combined_array = np.stack([arr1, arr2, arr3, arr4], axis=0)\n",
    "print(combined_array)"
   ]
  },
  {
   "cell_type": "code",
   "execution_count": 3,
   "id": "4ecccc9c-39f0-4c6b-a9b1-457f4c2077e6",
   "metadata": {},
   "outputs": [
    {
     "name": "stdout",
     "output_type": "stream",
     "text": [
      "[[[ 1.1   1.2 ]\n",
      "  [ 1.3   1.4 ]]\n",
      "\n",
      " [[ 4.5   5.6 ]\n",
      "  [ 6.7   6.1 ]]\n",
      "\n",
      " [[ 7.8   8.9 ]\n",
      "  [ 9.    9.1 ]]\n",
      "\n",
      " [[10.11 11.12]\n",
      "  [11.2  11.3 ]]]\n"
     ]
    }
   ],
   "source": [
    "#Q4: Print the following:\n",
    "import numpy as np\n",
    "arr1 = np.array([1.1, 1.2, 1.3, 1.4])\n",
    "arr2 = np.array([4.5, 5.6, 6.7, 6.1])  # Assuming you meant 6.1 for the last element\n",
    "arr3 = np.array([7.8, 8.9, 9.0, 9.1])  # Assuming you meant 9.1 for the last element\n",
    "arr4 = np.array([10.11, 11.12, 11.2, 11.3])  # Assuming you meant 11.3 for the last element\n",
    "arr1 = arr1.reshape(2, 2)  # Reshape if needed (already has the correct shape)\n",
    "arr2 = arr2.reshape(2, 2)  # Reshape if needed\n",
    "arr3 = arr3.reshape(2, 2)  # Reshape if needed\n",
    "arr4 = arr4.reshape(2, 2)  # Reshape if needed\n",
    "combined_array = np.stack([arr1, arr2, arr3, arr4], axis=0)  # Stack along axis 0\n",
    "print(combined_array)\n"
   ]
  },
  {
   "cell_type": "code",
   "execution_count": 4,
   "id": "fd592be6-029f-4e05-8def-a65a78f96a11",
   "metadata": {},
   "outputs": [
    {
     "name": "stdout",
     "output_type": "stream",
     "text": [
      "[[ 1.1   1.2   1.3   1.4 ]\n",
      " [ 4.5   5.6   6.7   6.1 ]\n",
      " [ 7.8   8.9   9.    9.1 ]\n",
      " [10.11 11.12 11.2  11.3 ]]\n"
     ]
    }
   ],
   "source": [
    "#Q5: Change the array dimention from 3-D to 4-D\n",
    "import numpy as np\n",
    "\n",
    "arr1 = np.array([1.1, 1.2, 1.3, 1.4])\n",
    "arr2 = np.array([4.5, 5.6, 6.7, 6.1])  \n",
    "arr3 = np.array([7.8, 8.9, 9.0, 9.1])  \n",
    "arr4 = np.array([10.11, 11.12, 11.2, 11.3])\n",
    "\n",
    "combined_array = np.stack([arr1, arr2, arr3, arr4], axis=0)\n",
    "\n",
    "print(combined_array)\n"
   ]
  },
  {
   "cell_type": "code",
   "execution_count": 8,
   "id": "740e4d8d-313e-4d9b-a8d0-bd28027ed598",
   "metadata": {},
   "outputs": [
    {
     "name": "stdout",
     "output_type": "stream",
     "text": [
      "[[[ 1.1   1.2 ]\n",
      "  [ 1.3   1.4 ]]\n",
      "\n",
      " [[ 4.5   5.6 ]\n",
      "  [ 6.7   6.1 ]]\n",
      "\n",
      " [[ 7.8   8.9 ]\n",
      "  [ 9.    9.1 ]]\n",
      "\n",
      " [[10.11 11.12]\n",
      "  [11.2  11.3 ]]]\n"
     ]
    }
   ],
   "source": [
    "#Q6: Change the array's elements datatype to integer\n",
    "import numpy as np\n",
    "\n",
    "arr1 = np.array([1.1, 1.2, 1.3, 1.4])\n",
    "arr2 = np.array([4.5, 5.6, 6.7, 6.1])  \n",
    "arr3 = np.array([7.8, 8.9, 9.0, 9.1])  \n",
    "arr4 = np.array([10.11, 11.12, 11.2, 11.3])\n",
    "\n",
    "arr1 = arr1.reshape(2, 2)  \n",
    "arr2 = arr2.reshape(2, 2)  \n",
    "arr3 = arr3.reshape(2, 2)  \n",
    "arr4 = arr4.reshape(2, 2)  \n",
    "\n",
    "combined_array = np.stack([arr1, arr2, arr3, arr4], axis=0)\n",
    "\n",
    "print(combined_array)\n",
    "\n",
    "\n"
   ]
  },
  {
   "cell_type": "code",
   "execution_count": 9,
   "id": "a633b6de-3880-4813-87ce-0f3d68d9fa35",
   "metadata": {},
   "outputs": [
    {
     "name": "stdout",
     "output_type": "stream",
     "text": [
      "[[[ 1  2]\n",
      "  [ 3  4]]\n",
      "\n",
      " [[ 5  6]\n",
      "  [ 7  8]]\n",
      "\n",
      " [[ 9 10]\n",
      "  [11 12]]\n",
      "\n",
      " [[13 14]\n",
      "  [15 16]]]\n"
     ]
    }
   ],
   "source": [
    "#Q7: Print all array's elements using for loop\n",
    "\n",
    "import numpy as np\n",
    "arr1 = np.array([[1, 2], [3, 4]])\n",
    "arr2 = np.array([[5, 6], [7, 8]])\n",
    "arr3 = np.array([[9, 10], [11, 12]])\n",
    "arr4 = np.array([[13, 14], [15, 16]])\n",
    "\n",
    "combined_array = np.stack([arr1, arr2, arr3, arr4], axis=0)\n",
    "\n",
    "print(combined_array)"
   ]
  },
  {
   "cell_type": "code",
   "execution_count": 10,
   "id": "7c3bce78-61b8-4f94-a967-2cec18bf914a",
   "metadata": {},
   "outputs": [
    {
     "name": "stdout",
     "output_type": "stream",
     "text": [
      "[[[ 1  2]\n",
      "  [ 3  4]]\n",
      "\n",
      " [[ 5  6]\n",
      "  [ 7  8]]\n",
      "\n",
      " [[ 9 10]\n",
      "  [11 12]]\n",
      "\n",
      " [[13 14]\n",
      "  [15 16]]]\n"
     ]
    }
   ],
   "source": [
    "#Q8: Print number 8 using array slicing\n",
    "import numpy as np\n",
    "\n",
    "arr1 = np.array([[1, 2], [3, 4]])\n",
    "arr2 = np.array([[5, 6], [7, 8]])\n",
    "arr3 = np.array([[9, 10], [11, 12]])\n",
    "arr4 = np.array([[13, 14], [15, 16]])\n",
    "\n",
    "combined_array = np.stack([arr1, arr2, arr3, arr4], axis=0)\n",
    "\n",
    "print(combined_array)\n"
   ]
  },
  {
   "cell_type": "code",
   "execution_count": 12,
   "id": "01d51fd4-2b54-486c-9c81-cf3379b344ca",
   "metadata": {},
   "outputs": [
    {
     "name": "stdout",
     "output_type": "stream",
     "text": [
      "[5 6]\n"
     ]
    }
   ],
   "source": [
    "#Q9: Print number 5 and number 6 using array slicing\n",
    "import numpy as np\n",
    "arr = np.array([1, 2, 3, 4, 5, 6, 7])\n",
    "\n",
    "sliced_array = arr[4:6]  \n",
    "\n",
    "print(sliced_array)\n"
   ]
  },
  {
   "cell_type": "code",
   "execution_count": 13,
   "id": "e7b6bc8d-1bdb-407e-9c3c-3d47dcf16e5e",
   "metadata": {},
   "outputs": [
    {
     "name": "stdout",
     "output_type": "stream",
     "text": [
      "The first occurrence of 8 is at index 5.\n"
     ]
    }
   ],
   "source": [
    "#Q10: Search for number 8 using where()\n",
    "my_list = [1, 4, 2, 7, 5, 8, 9, 3]\n",
    "try:\n",
    "  index = my_list.index(8)\n",
    "  print(f\"The first occurrence of 8 is at index {index}.\")\n",
    "except ValueError:\n",
    "  print(\"The number 8 is not found in the list.\")\n"
   ]
  },
  {
   "cell_type": "code",
   "execution_count": 15,
   "id": "a6cd255a-00fc-48a4-947f-94f858b701b2",
   "metadata": {},
   "outputs": [
    {
     "name": "stdout",
     "output_type": "stream",
     "text": [
      "[[[ 1  2]\n",
      "  [ 3  4]]\n",
      "\n",
      " [[ 5  6]\n",
      "  [ 7  8]]\n",
      "\n",
      " [[ 9 10]\n",
      "  [11 12]]\n",
      "\n",
      " [[13 14]\n",
      "  [15 16]]]\n"
     ]
    }
   ],
   "source": [
    "#Q11: Reshape the array as the following\n",
    "import numpy as np\n",
    "\n",
    "# Define the four arrays as given in the prompt\n",
    "arr1 = np.array([[1, 2], [3, 4]])\n",
    "arr2 = np.array([[5, 6], [7, 8]])\n",
    "arr3 = np.array([[9, 10], [11, 12]])\n",
    "arr4 = np.array([[13, 14], [15, 16]])\n",
    "\n",
    "# Combine the arrays into a 3D array\n",
    "combined_array = np.stack([arr1, arr2, arr3, arr4], axis=0)\n",
    "\n",
    "# Print the combined 3D array\n",
    "print(combined_array)\n",
    "\n"
   ]
  },
  {
   "cell_type": "code",
   "execution_count": 20,
   "id": "6208ab51-69a7-4d05-be0e-ba7f7385abb8",
   "metadata": {},
   "outputs": [
    {
     "name": "stdout",
     "output_type": "stream",
     "text": [
      "[['A' 'B']\n",
      " ['E' 'F']\n",
      " ['C' 'D']\n",
      " ['G' 'H']]\n",
      "[['A' 'B' 'C' 'D']\n",
      " ['E' 'F' 'G' 'H']]\n"
     ]
    }
   ],
   "source": [
    "#Q12: Join the given arrays below\n",
    "import numpy as np\n",
    "arr1 = np.array([['A', 'B'], ['E', 'F']])\n",
    "arr2 = np.array([['C', 'D'], ['G', 'H']])\n",
    "joined_array = np.concatenate((arr1, arr2))\n",
    "\n",
    "print(joined_array)\n",
    "\n",
    "joined_array = np.concatenate((arr1, arr2), axis=1)\n",
    "\n",
    "print(joined_array)\n"
   ]
  },
  {
   "cell_type": "code",
   "execution_count": 21,
   "id": "48cfe46b-958b-4156-9b74-e879f1314f16",
   "metadata": {},
   "outputs": [
    {
     "name": "stdout",
     "output_type": "stream",
     "text": [
      "Split Array 1:\n",
      "[['A']\n",
      " ['E']\n",
      " ['C']\n",
      " ['G']]\n",
      "\n",
      "Split Array 2:\n",
      "[['B']\n",
      " ['F']\n",
      " ['D']\n",
      " ['H']]\n"
     ]
    }
   ],
   "source": [
    "#Q13: Split the array into two arrays with axis = 1, each array should contain four arrays.\n",
    "import numpy as np\n",
    "\n",
    "arr1 = np.array([['A', 'B'], ['E', 'F'], ['C', 'D'], ['G', 'H']])\n",
    "split_arrays = np.split(arr1, 2, axis=1)\n",
    "\n",
    "print(\"Split Array 1:\")\n",
    "print(split_arrays[0])\n",
    "\n",
    "print(\"\\nSplit Array 2:\")\n",
    "print(split_arrays[1])\n",
    "\n",
    "\n",
    "\n",
    "\n"
   ]
  },
  {
   "cell_type": "code",
   "execution_count": null,
   "id": "86ea3f42-3fc3-4da6-9076-b0d955ed8e4c",
   "metadata": {},
   "outputs": [],
   "source": []
  }
 ],
 "metadata": {
  "kernelspec": {
   "display_name": "Python 3 (ipykernel)",
   "language": "python",
   "name": "python3"
  },
  "language_info": {
   "codemirror_mode": {
    "name": "ipython",
    "version": 3
   },
   "file_extension": ".py",
   "mimetype": "text/x-python",
   "name": "python",
   "nbconvert_exporter": "python",
   "pygments_lexer": "ipython3",
   "version": "3.11.7"
  }
 },
 "nbformat": 4,
 "nbformat_minor": 5
}
