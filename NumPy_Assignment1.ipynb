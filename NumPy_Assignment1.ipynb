{
 "cells": [
  {
   "cell_type": "code",
   "execution_count": null,
   "id": "212fd1ba",
   "metadata": {},
   "outputs": [],
   "source": [
    "import numpy as np"
   ]
  },
  {
   "cell_type": "markdown",
   "id": "10803eb0",
   "metadata": {},
   "source": [
    "## Q#1: Create x array with elements equal to 1."
   ]
  },
  {
   "cell_type": "code",
   "execution_count": null,
   "id": "3307454f",
   "metadata": {},
   "outputs": [],
   "source": [
    "x = np.ones(shape=(5,))  \n",
    "print(x)"
   ]
  },
  {
   "cell_type": "markdown",
   "id": "7795306d",
   "metadata": {},
   "source": [
    "## Q#2: Create y array with elements equal to 0."
   ]
  },
  {
   "cell_type": "code",
   "execution_count": null,
   "id": "9550b063",
   "metadata": {},
   "outputs": [
    {
     "ename": "",
     "evalue": "",
     "output_type": "error",
     "traceback": [
      "\u001b[1;31mRunning cells with 'Python 3.11.9' requires the ipykernel package.\n",
      "\u001b[1;31mRun the following command to install 'ipykernel' into the Python environment. \n",
      "\u001b[1;31mCommand: 'c:/Users/HP/AppData/Local/Programs/Python/Python311/python.exe -m pip install ipykernel -U --user --force-reinstall'"
     ]
    }
   ],
   "source": [
    "y = np.zeros(shape=(5,))  # This will create an array of 5 elements, each equal to 0\n",
    "print(y)"
   ]
  },
  {
   "cell_type": "markdown",
   "id": "cde6a939",
   "metadata": {},
   "source": [
    "## Q#3: Add x and y arrays."
   ]
  },
  {
   "cell_type": "code",
   "execution_count": null,
   "id": "71070d1d",
   "metadata": {},
   "outputs": [],
   "source": [
    "\n",
    "\n",
    "x = np.ones(shape=(5,))\n",
    "y = np.zeros(shape=(5,))\n",
    "\n",
    "result = np.add(x, y)\n",
    "print(result)  \n"
   ]
  },
  {
   "cell_type": "markdown",
   "id": "ed854f4c",
   "metadata": {},
   "source": [
    "## Q#4: Print x array characteristics (e.g: dimension, shape, size, type)."
   ]
  },
  {
   "cell_type": "code",
   "execution_count": null,
   "id": "32627c83",
   "metadata": {},
   "outputs": [],
   "source": [
    "\n",
    "\n",
    "x = np.ones(shape=(5,))\n",
    "\n",
    "# Print array characteristics\n",
    "print(\"Dimension of x array:\", x.ndim)\n",
    "print(\"Shape of x array:\", x.shape)\n",
    "print(\"Size of x array:\", x.size)\n",
    "print(\"Type of elements in x array:\", x.dtype)\n"
   ]
  },
  {
   "cell_type": "markdown",
   "id": "dbd46a73",
   "metadata": {},
   "source": [
    "## Q#5: Create a 2D array \"called w\" as the following:\n",
    "\n",
    "|       |          |\n",
    "| ----- | -------- |\n",
    "| 11    | 12       |\n",
    "| 13    | 14       |\n",
    "| 15    | 16       |\n"
   ]
  },
  {
   "cell_type": "code",
   "execution_count": null,
   "id": "b9c7bbb0",
   "metadata": {},
   "outputs": [],
   "source": [
    "# write your code here ^_^import numpy as np\n",
    "\n",
    "w = np.array([[1, 2, 3], [4, 5, 6], [7, 8, 9]])\n",
    "\n",
    "print(w)"
   ]
  },
  {
   "cell_type": "markdown",
   "id": "0e62bd09",
   "metadata": {},
   "source": [
    "## Q#6: Create z array contains the numbers from 1 to 3."
   ]
  },
  {
   "cell_type": "code",
   "execution_count": null,
   "id": "cee8aba0",
   "metadata": {},
   "outputs": [],
   "source": [
    "\n",
    "\n",
    "z = np.arange(1, 4)\n",
    "\n",
    "print(z)"
   ]
  },
  {
   "cell_type": "markdown",
   "id": "32b00711",
   "metadata": {},
   "source": [
    "## Q#7: Combine the arrays z and w in horizontal way then save it in a new variable \"newArray\"."
   ]
  },
  {
   "cell_type": "code",
   "execution_count": null,
   "id": "d218f892",
   "metadata": {},
   "outputs": [],
   "source": [
    "\n",
    "\n",
    "z = np.arange(1, 4)\n",
    "w = np.array([[1, 2, 3], [4, 5, 6], [7, 8, 9]])\n",
    "\n",
    "newArray = np.hstack((z.reshape(-1, 1), w))\n",
    "\n",
    "print(newArray)\n"
   ]
  },
  {
   "cell_type": "markdown",
   "id": "7e009910",
   "metadata": {},
   "source": [
    "## Q#8: Print all elements of \"newArray\" using the loop."
   ]
  },
  {
   "cell_type": "code",
   "execution_count": null,
   "id": "abbed923",
   "metadata": {},
   "outputs": [],
   "source": [
    "\n",
    "\n",
    "#\n",
    "z = np.arange(1, 4)\n",
    "w = np.array([[1, 2, 3], [4, 5, 6], [7, 8, 9]])\n",
    "\n",
    "\n",
    "newArray = np.hstack((z.reshape(-1, 1), w))\n",
    "\n",
    "\n",
    "for row in newArray:\n",
    "    for element in row:\n",
    "        print(element, end=\" \")\n",
    "    print()  "
   ]
  },
  {
   "cell_type": "markdown",
   "id": "011c6d2d",
   "metadata": {},
   "source": [
    "## Q#9: Reverse the columns and rows of \"newArray\"."
   ]
  },
  {
   "cell_type": "code",
   "execution_count": null,
   "id": "12e3f0db",
   "metadata": {},
   "outputs": [],
   "source": [
    "\n",
    "\n",
    "# Define z and w arrays\n",
    "z = np.arange(1, 4)\n",
    "w = np.array([[1, 2, 3], [4, 5, 6], [7, 8, 9]])\n",
    "\n",
    "# Combine arrays z and w horizontally\n",
    "newArray = np.hstack((z.reshape(-1, 1), w))\n",
    "\n",
    "# Reverse the rows and columns of newArray\n",
    "newArray_reversed = np.flip(newArray, axis=0)\n",
    "newArray_reversed = np.flip(newArray_reversed, axis=1)\n",
    "\n",
    "print(newArray_reversed)"
   ]
  },
  {
   "cell_type": "markdown",
   "id": "f40b57c3",
   "metadata": {},
   "source": [
    "## Q#10: Decrement all elements of \"newArray\" with 1."
   ]
  },
  {
   "cell_type": "code",
   "execution_count": null,
   "id": "aea004df",
   "metadata": {},
   "outputs": [],
   "source": [
    "\n",
    "\n",
    "# Define z and w arrays\n",
    "z = np.arange(1, 4)\n",
    "w = np.array([[1, 2, 3], [4, 5, 6], [7, 8, 9]])\n",
    "\n",
    "# Combine arrays z and w horizontally\n",
    "newArray = np.hstack((z.reshape(-1, 1), w))\n",
    "\n",
    "# Decrement all elements of newArray by 1\n",
    "newArray -= 1\n",
    "\n",
    "print(newArray)"
   ]
  },
  {
   "cell_type": "markdown",
   "id": "8901e8be",
   "metadata": {},
   "source": [
    "## Q#11: Find smallest and biggest values in \"newArray\"."
   ]
  },
  {
   "cell_type": "code",
   "execution_count": null,
   "id": "4ea08613",
   "metadata": {},
   "outputs": [],
   "source": [
    "\n",
    "\n",
    "\n",
    "z = np.arange(1, 4)\n",
    "w = np.array([[1, 2, 3], [4, 5, 6], [7, 8, 9]])\n",
    "\n",
    "\n",
    "newArray = np.hstack((z.reshape(-1, 1), w))\n",
    "\n",
    "\n",
    "smallest_value = np.min(newArray)\n",
    "largest_value = np.max(newArray)\n",
    "\n",
    "print(\"Smallest value:\", smallest_value)\n",
    "print(\"Largest value:\", largest_value)\n"
   ]
  },
  {
   "cell_type": "markdown",
   "id": "c5d5d4ca",
   "metadata": {},
   "source": [
    "## Q#12: Print the first row of \"newArray\" using indexing."
   ]
  },
  {
   "cell_type": "code",
   "execution_count": null,
   "id": "73e3b5a5",
   "metadata": {},
   "outputs": [],
   "source": [
    "\n",
    "\n",
    "# Define z and w arrays\n",
    "z = np.arange(1, 4)\n",
    "w = np.array([[1, 2, 3], [4, 5, 6], [7, 8, 9]])\n",
    "\n",
    "# Combine arrays z and w horizontally\n",
    "newArray = np.hstack((z.reshape(-1, 1), w))\n",
    "\n",
    "# Print the first row of newArray\n",
    "first_row = newArray[0]\n",
    "print(\"First row:\", first_row)\n"
   ]
  },
  {
   "cell_type": "markdown",
   "id": "78f4d6c1",
   "metadata": {},
   "source": [
    "## Q#13: Print the number equals 12 of \"newArray\" using indexing."
   ]
  },
  {
   "cell_type": "code",
   "execution_count": null,
   "id": "7ad660b7",
   "metadata": {},
   "outputs": [],
   "source": [
    "\n",
    "\n",
    "\n",
    "z = np.arange(1, 4)\n",
    "w = np.array([[1, 2, 3], [4, 5, 6], [7, 8, 9]])\n",
    "\n",
    "\n",
    "newArray = np.hstack((z.reshape(-1, 1), w))\n",
    "\n",
    "\n",
    "\n",
    "index = np.where(newArray == 12)\n",
    "\n",
    "\n",
    "if index[0].size != 0:\n",
    "    print(\"Number equals 12:\", newArray[index[0][0], index[1][0]])\n",
    "else:\n",
    "    print(\"Number equals 12 not found in newArray.\")\n"
   ]
  },
  {
   "cell_type": "markdown",
   "id": "932b5c3d",
   "metadata": {},
   "source": [
    "## Q#14: Print the numbers equal 0 and 13 of \"newArray\" using indexing."
   ]
  },
  {
   "cell_type": "code",
   "execution_count": null,
   "id": "31fb5fd0",
   "metadata": {},
   "outputs": [],
   "source": [
    "\n",
    "\n",
    "# Define z and w arrays\n",
    "z = np.arange(1, 4)\n",
    "w = np.array([[1, 2, 3], [4, 5, 6], [7, 8, 9]])\n",
    "\n",
    "# Combine arrays z and w horizontally\n",
    "newArray = np.hstack((z.reshape(-1, 1), w))\n",
    "\n",
    "# Find the indices of the elements equals 0 and 13 in newArray\n",
    "indices_0 = np.where(newArray == 0)\n",
    "indices_13 = np.where(newArray == 13)\n",
    "\n",
    "# Print the numbers equals 0 and 13 from newArray\n",
    "if indices_0[0].size != 0:\n",
    "    print(\"Number equals 0:\", newArray[indices_0[0][0], indices_0[1][0]])\n",
    "else:\n",
    "    print(\"Number equals 0 not found in newArray.\")\n",
    "\n",
    "if indices_13[0].size != 0:\n",
    "    print(\"Number equals 13:\", newArray[indices_13[0][0], indices_13[1][0]])\n",
    "else:\n",
    "    print(\"Number equals 13 not found in newArray.\")\n"
   ]
  },
  {
   "cell_type": "markdown",
   "id": "27e0f68e",
   "metadata": {},
   "source": [
    "## Q#15: Change the shape of \"newArray\" to (9,1)."
   ]
  },
  {
   "cell_type": "code",
   "execution_count": null,
   "id": "35f224ad",
   "metadata": {},
   "outputs": [],
   "source": [
    "\n",
    "\n",
    "# Define z and w arrays\n",
    "z = np.arange(1, 4)\n",
    "w = np.array([[1, 2, 3], [4, 5, 6], [7, 8, 9]])\n",
    "\n",
    "# Combine arrays z and w horizontally\n",
    "newArray = np.hstack((z.reshape(-1, 1), w))\n",
    "\n",
    "# Find the indices of the elements equals 0 and 13 in newArray\n",
    "indices_0 = np.where(newArray == 0)\n",
    "indices_13 = np.where(newArray == 13)\n",
    "\n",
    "# Print the numbers equals 0 and 13 from newArray\n",
    "if indices_0[0].size != 0:\n",
    "    print(\"Number equals 0:\", newArray[indices_0[0][0], indices_0[1][0]])\n",
    "else:\n",
    "    print(\"Number equals 0 not found in newArray.\")\n",
    "\n",
    "if indices_13[0].size != 0:\n",
    "    print(\"Number equals 13:\", newArray[indices_13[0][0], indices_13[1][0]])\n",
    "else:\n",
    "    print(\"Number equals 13 not found in newArray.\")\n"
   ]
  },
  {
   "cell_type": "markdown",
   "id": "e6d104c5",
   "metadata": {},
   "source": [
    "## Q#16: Change the shape of \"newArray\" to (3,2)."
   ]
  },
  {
   "cell_type": "code",
   "execution_count": null,
   "id": "724d51d5",
   "metadata": {},
   "outputs": [],
   "source": [
    "\n",
    "\n",
    "# Define z and w arrays\n",
    "z = np.arange(1, 4)\n",
    "w = np.array([[1, 2, 3], [4, 5, 6], [7, 8, 9]])\n",
    "\n",
    "# Combine arrays z and w horizontally\n",
    "newArray = np.hstack((z.reshape(-1, 1), w))\n",
    "\n",
    "# Change the shape of newArray to (3, 3)\n",
    "newArray_reshaped = newArray.reshape(3, 3)\n",
    "\n",
    "print(newArray_reshaped)\n"
   ]
  },
  {
   "cell_type": "markdown",
   "id": "09567fdc",
   "metadata": {},
   "source": [
    "# Well Done 🎉"
   ]
  }
 ],
 "metadata": {
  "kernelspec": {
   "display_name": "Python 3 (ipykernel)",
   "language": "python",
   "name": "python3"
  },
  "language_info": {
   "codemirror_mode": {
    "name": "ipython",
    "version": 3
   },
   "file_extension": ".py",
   "mimetype": "text/x-python",
   "name": "python",
   "nbconvert_exporter": "python",
   "pygments_lexer": "ipython3",
   "version": "3.11.9"
  }
 },
 "nbformat": 4,
 "nbformat_minor": 5
}
